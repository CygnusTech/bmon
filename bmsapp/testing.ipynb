{
 "metadata": {
  "name": "",
  "signature": "sha256:9c4cc391eff6b1c32f855067958cfcafd83cb4219df370961bebe31f33341592"
 },
 "nbformat": 3,
 "nbformat_minor": 0,
 "worksheets": [
  {
   "cells": [
    {
     "cell_type": "heading",
     "level": 1,
     "metadata": {},
     "source": [
      "Used for Testing BMON Modules"
     ]
    },
    {
     "cell_type": "code",
     "collapsed": false,
     "input": [
      "import time"
     ],
     "language": "python",
     "metadata": {},
     "outputs": [],
     "prompt_number": 8
    },
    {
     "cell_type": "code",
     "collapsed": false,
     "input": [
      "# import matplotlib pyplot commands\n",
      "from matplotlib.pyplot import *\n",
      " \n",
      "# Show Plots in the Notebook\n",
      "%matplotlib inline\n",
      " \n",
      "rcParams['figure.figsize']= (10, 8)   # set Chart Size\n",
      "rcParams['font.size'] = 14            # set Font size in Chart"
     ],
     "language": "python",
     "metadata": {},
     "outputs": [],
     "prompt_number": 14
    },
    {
     "cell_type": "code",
     "collapsed": true,
     "input": [
      "import pytz, calendar\n",
      "from dateutil import parser\n",
      "def AK_time_to_ts(datestr):\n",
      "    \"\"\"Converts a date/time string into a Unix timestamp, assuming the date/time is expressed\n",
      "    in the Alaska timezone.\n",
      "    \"\"\"\n",
      "    tz = pytz.timezone('US/Alaska')\n",
      "    dt = parser.parse(datestr)\n",
      "    dt_aware = tz.localize(dt)\n",
      "    return calendar.timegm(dt_aware.utctimetuple())"
     ],
     "language": "python",
     "metadata": {},
     "outputs": [],
     "prompt_number": 19
    },
    {
     "cell_type": "heading",
     "level": 2,
     "metadata": {},
     "source": [
      "schedule.py Testing"
     ]
    },
    {
     "cell_type": "code",
     "collapsed": false,
     "input": [
      "import schedule\n",
      "reload(schedule)  # ensures changes are reloaded"
     ],
     "language": "python",
     "metadata": {},
     "outputs": [
      {
       "metadata": {},
       "output_type": "pyout",
       "prompt_number": 57,
       "text": [
        "<module 'schedule' from 'schedule.py'>"
       ]
      }
     ],
     "prompt_number": 57
    },
    {
     "cell_type": "code",
     "collapsed": false,
     "input": [
      "sched = schedule.Schedule('''M-F: 8a-5p\n",
      "Sa-Su: 12p-4p''', \n",
      "'US/Alaska')\n",
      "sched.definition"
     ],
     "language": "python",
     "metadata": {},
     "outputs": [
      {
       "metadata": {},
       "output_type": "pyout",
       "prompt_number": 61,
       "text": [
        "{1: [(datetime.time(8, 0), datetime.time(17, 0))],\n",
        " 2: [(datetime.time(8, 0), datetime.time(17, 0))],\n",
        " 3: [(datetime.time(8, 0), datetime.time(17, 0))],\n",
        " 4: [(datetime.time(8, 0), datetime.time(17, 0))],\n",
        " 5: [(datetime.time(8, 0), datetime.time(17, 0))]}"
       ]
      }
     ],
     "prompt_number": 61
    },
    {
     "cell_type": "code",
     "collapsed": false,
     "input": [
      "%%timeit\n",
      "# Test the speed of the is_occupied method\n",
      "# the number of timestamps that would occur in 3 timeseries of\n",
      "# 10 minute readings across five years.\n",
      "for ts in range(3 * 6 * 8760 * 5):\n",
      "    sched.is_occupied(ts)\n",
      "    \n",
      "# Result is about 6 seconds on Alan's machine, but for a very large\n",
      "# amount of timestamps.  I think this is OK."
     ],
     "language": "python",
     "metadata": {},
     "outputs": [
      {
       "output_type": "stream",
       "stream": "stdout",
       "text": [
        "1 loops, best of 3: 5.85 s per loop\n"
       ]
      }
     ],
     "prompt_number": 32
    },
    {
     "cell_type": "code",
     "collapsed": false,
     "input": [
      "# Create list of timestamps at 10 minute intervals spanning\n",
      "# a full week starting on Monday\n",
      "tstart = AK_time_to_ts('Dec 29, 2014 12:00a')\n",
      "tstamps = [tstart + incr for incr in range(0, 3600 * 24 * 7, 10*60)]\n",
      "occup = [sched.is_occupied(ts) for ts in tstamps]\n",
      "plot(tstamps, occup)"
     ],
     "language": "python",
     "metadata": {},
     "outputs": [
      {
       "metadata": {},
       "output_type": "pyout",
       "prompt_number": 59,
       "text": [
        "[<matplotlib.lines.Line2D at 0xd014518>]"
       ]
      },
      {
       "metadata": {},
       "output_type": "display_data",
       "png": "[encoded data removed]",
       "text": [
        "<matplotlib.figure.Figure at 0x9ce27b8>"
       ]
      }
     ],
     "prompt_number": 59
    }
   ],
   "metadata": {}
  }
 ]
}