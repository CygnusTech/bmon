{
 "metadata": {
  "name": "",
  "signature": "sha256:8cc13937157dd27eb2d9ec2e532daa0521d6009d8d4a23d506bd8ff2ee49638f"
 },
 "nbformat": 3,
 "nbformat_minor": 0,
 "worksheets": [
  {
   "cells": [
    {
     "cell_type": "heading",
     "level": 1,
     "metadata": {},
     "source": [
      "Used for Testing BMON Modules"
     ]
    },
    {
     "cell_type": "code",
     "collapsed": false,
     "input": [
      "import time"
     ],
     "language": "python",
     "metadata": {},
     "outputs": [],
     "prompt_number": 1
    },
    {
     "cell_type": "code",
     "collapsed": false,
     "input": [
      "# import matplotlib pyplot commands\n",
      "from matplotlib.pyplot import *\n",
      " \n",
      "# Show Plots in the Notebook\n",
      "%matplotlib inline\n",
      " \n",
      "rcParams['figure.figsize']= (10, 8)   # set Chart Size\n",
      "rcParams['font.size'] = 14            # set Font size in Chart"
     ],
     "language": "python",
     "metadata": {},
     "outputs": [],
     "prompt_number": 2
    },
    {
     "cell_type": "code",
     "collapsed": true,
     "input": [
      "import pytz, calendar\n",
      "from dateutil import parser\n",
      "def AK_time_to_ts(datestr):\n",
      "    \"\"\"Converts a date/time string into a Unix timestamp, assuming the date/time is expressed\n",
      "    in the Alaska timezone.\n",
      "    \"\"\"\n",
      "    tz = pytz.timezone('US/Alaska')\n",
      "    dt = parser.parse(datestr)\n",
      "    dt_aware = tz.localize(dt)\n",
      "    return calendar.timegm(dt_aware.utctimetuple())"
     ],
     "language": "python",
     "metadata": {},
     "outputs": [],
     "prompt_number": 3
    },
    {
     "cell_type": "heading",
     "level": 2,
     "metadata": {},
     "source": [
      "schedule.py Testing"
     ]
    },
    {
     "cell_type": "code",
     "collapsed": false,
     "input": [
      "import schedule\n",
      "reload(schedule)  # ensures changes are reloaded"
     ],
     "language": "python",
     "metadata": {},
     "outputs": [
      {
       "metadata": {},
       "output_type": "pyout",
       "prompt_number": 4,
       "text": [
        "<module 'schedule' from 'schedule.pyc'>"
       ]
      }
     ],
     "prompt_number": 4
    },
    {
     "cell_type": "code",
     "collapsed": false,
     "input": [
      "sched = schedule.Schedule('''M-th: 8a-5p\n",
      "fRi: 5:00-16:00\n",
      "Sa-Su: 12p-4p''', \n",
      "'US/Alaska')\n",
      "sched.definition"
     ],
     "language": "python",
     "metadata": {},
     "outputs": [
      {
       "metadata": {},
       "output_type": "pyout",
       "prompt_number": 5,
       "text": [
        "{0: [(datetime.time(12, 0), datetime.time(16, 0))],\n",
        " 1: [(datetime.time(8, 0), datetime.time(17, 0))],\n",
        " 2: [(datetime.time(8, 0), datetime.time(17, 0))],\n",
        " 3: [(datetime.time(8, 0), datetime.time(17, 0))],\n",
        " 4: [(datetime.time(8, 0), datetime.time(17, 0))],\n",
        " 5: [(datetime.time(5, 0), datetime.time(16, 0))],\n",
        " 6: [(datetime.time(12, 0), datetime.time(16, 0))]}"
       ]
      }
     ],
     "prompt_number": 5
    },
    {
     "cell_type": "code",
     "collapsed": false,
     "input": [
      "%%timeit\n",
      "# Test the speed of the is_occupied method\n",
      "# the number of timestamps that would occur in 3 timeseries of\n",
      "# 10 minute readings across five years.\n",
      "for ts in range(3 * 6 * 8760 * 5):\n",
      "    sched.is_occupied(ts)\n",
      "    \n",
      "# Result is about 6 seconds on Alan's machine, but for a very large\n",
      "# amount of timestamps.  I think this is OK."
     ],
     "language": "python",
     "metadata": {},
     "outputs": [
      {
       "output_type": "stream",
       "stream": "stdout",
       "text": [
        "1 loops, best of 3: 5.77 s per loop\n"
       ]
      }
     ],
     "prompt_number": 6
    },
    {
     "cell_type": "code",
     "collapsed": false,
     "input": [
      "# Create list of timestamps at 10 minute intervals spanning\n",
      "# a full week starting on Monday\n",
      "tstart = AK_time_to_ts('Dec 29, 2014 12:00a')   # Monday start of Day\n",
      "tstamps = [tstart + incr for incr in range(0, 3600 * 24 * 7, 10*60)]\n",
      "occup = [sched.is_occupied(ts) for ts in tstamps]\n",
      "plot(tstamps, occup)"
     ],
     "language": "python",
     "metadata": {},
     "outputs": [
      {
       "metadata": {},
       "output_type": "pyout",
       "prompt_number": 7,
       "text": [
        "[<matplotlib.lines.Line2D at 0x9e2ae80>]"
       ]
      },
      {
       "metadata": {},
       "output_type": "display_data",
       "png": "[encoded data removed]",
       "text": [
        "<matplotlib.figure.Figure at 0x9e0a4a8>"
       ]
      }
     ],
     "prompt_number": 7
    },
    {
     "cell_type": "code",
     "collapsed": false,
     "input": [
      "ts_Sun_occup = AK_time_to_ts('Dec 28, 2014 1p')  # A Sunday at 1 pm.  Should be occupied\n",
      "sched.is_occupied(ts_Sun_occup)"
     ],
     "language": "python",
     "metadata": {},
     "outputs": [
      {
       "metadata": {},
       "output_type": "pyout",
       "prompt_number": 11,
       "text": [
        "False"
       ]
      }
     ],
     "prompt_number": 11
    },
    {
     "cell_type": "code",
     "collapsed": false,
     "input": [
      "# Show occupied periods in the next week\n",
      "import datetime\n",
      "tstart = calendar.timegm(pytz.timezone('US/Alaska').localize(datetime.datetime.now()).utctimetuple())\n",
      "op = sched.occupied_periods(tstart, tstart + (60 * 60 * 24 * 7))\n",
      "print [(datetime.datetime.fromtimestamp(start_ts), datetime.datetime.fromtimestamp(end_ts)) for start_ts,end_ts in op]\n"
     ],
     "language": "python",
     "metadata": {},
     "outputs": [
      {
       "output_type": "stream",
       "stream": "stdout",
       "text": [
        "[(datetime.datetime(2014, 12, 30, 14, 44, 27), datetime.datetime(2014, 12, 30, 17, 0)), (datetime.datetime(2014, 12, 31, 8, 0), datetime.datetime(2014, 12, 31, 17, 0)), (datetime.datetime(2015, 1, 1, 8, 0), datetime.datetime(2015, 1, 1, 17, 0)), (datetime.datetime(2015, 1, 2, 5, 0), datetime.datetime(2015, 1, 2, 16, 0)), (datetime.datetime(2015, 1, 3, 12, 0), datetime.datetime(2015, 1, 3, 16, 0)), (datetime.datetime(2015, 1, 5, 8, 0), datetime.datetime(2015, 1, 5, 17, 0)), (datetime.datetime(2015, 1, 6, 8, 0), datetime.datetime(2015, 1, 6, 14, 44, 27))]\n"
       ]
      }
     ],
     "prompt_number": 57
    },
    {
     "cell_type": "code",
     "collapsed": false,
     "input": [
      "# Show occupied periods in the next week\n",
      "def temp():\n",
      "    for ts in range(3 * 6 * 8760):\n",
      "        sched.is_occupied(ts)\n",
      "%prun temp()\n"
     ],
     "language": "python",
     "metadata": {},
     "outputs": [
      {
       "output_type": "stream",
       "stream": "stdout",
       "text": [
        " "
       ]
      }
     ],
     "prompt_number": 60
    },
    {
     "cell_type": "code",
     "collapsed": false,
     "input": [],
     "language": "python",
     "metadata": {},
     "outputs": [],
     "prompt_number": 58
    }
   ],
   "metadata": {}
  }
 ]
}